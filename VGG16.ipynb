{
 "cells": [
  {
   "cell_type": "code",
   "execution_count": 1,
   "id": "41269653",
   "metadata": {},
   "outputs": [],
   "source": [
    "import pandas as pd\n",
    "import numpy as np\n",
    "import os\n",
    "import sys\n",
    "from pathlib import Path\n",
    "import re\n",
    "import matplotlib.image as mpimg\n",
    "from matplotlib.patches import Circle\n",
    "from sklearn.model_selection import train_test_split\n",
    "from tensorflow.keras.preprocessing.image import ImageDataGenerator\n",
    "\n",
    "from PIL import Image\n",
    "from IPython.display import Image\n",
    "from tensorflow.keras.models import Sequential\n",
    "from tensorflow.keras.utils import plot_model\n",
    "from tensorflow.keras.callbacks import EarlyStopping, ModelCheckpoint\n",
    "from tensorflow.keras.optimizers import Adam"
   ]
  },
  {
   "cell_type": "code",
   "execution_count": 2,
   "id": "def18f15",
   "metadata": {},
   "outputs": [],
   "source": [
    "from shutil import unpack_archive\n",
    "unpack_archive('mm.zip', './mmsample', \"zip\")"
   ]
  },
  {
   "cell_type": "code",
   "execution_count": 3,
   "id": "3b742aca",
   "metadata": {},
   "outputs": [],
   "source": [
    "from skimage.io import imread\n",
    "import os\n",
    "from glob import glob\n",
    "import h5py\n",
    "%matplotlib inline "
   ]
  },
  {
   "cell_type": "code",
   "execution_count": 4,
   "id": "d99a63de",
   "metadata": {
    "scrolled": false
   },
   "outputs": [
    {
     "name": "stderr",
     "output_type": "stream",
     "text": [
      "/tmp/ipykernel_214/2179764541.py:6: H5pyDeprecationWarning: dataset.value has been deprecated. Use dataset[()] instead.\n",
      "  {k: v.value if len(v.shape)==1 else [sub_v for sub_v in v]\n"
     ]
    },
    {
     "data": {
      "text/html": [
       "<div>\n",
       "<style scoped>\n",
       "    .dataframe tbody tr th:only-of-type {\n",
       "        vertical-align: middle;\n",
       "    }\n",
       "\n",
       "    .dataframe tbody tr th {\n",
       "        vertical-align: top;\n",
       "    }\n",
       "\n",
       "    .dataframe thead th {\n",
       "        text-align: right;\n",
       "    }\n",
       "</style>\n",
       "<table border=\"1\" class=\"dataframe\">\n",
       "  <thead>\n",
       "    <tr style=\"text-align: right;\">\n",
       "      <th></th>\n",
       "      <th>BG</th>\n",
       "      <th>CLASS</th>\n",
       "      <th>RADIUS</th>\n",
       "      <th>REFNUM</th>\n",
       "      <th>SEVERITY</th>\n",
       "      <th>X</th>\n",
       "      <th>Y</th>\n",
       "      <th>path</th>\n",
       "      <th>scan</th>\n",
       "    </tr>\n",
       "  </thead>\n",
       "  <tbody>\n",
       "    <tr>\n",
       "      <th>70</th>\n",
       "      <td>F</td>\n",
       "      <td>NORM</td>\n",
       "      <td>NaN</td>\n",
       "      <td>mdb070</td>\n",
       "      <td>nan</td>\n",
       "      <td>NaN</td>\n",
       "      <td>NaN</td>\n",
       "      <td>mdb070.pgm</td>\n",
       "      <td>tiffs/mdb070.tif</td>\n",
       "    </tr>\n",
       "    <tr>\n",
       "      <th>110</th>\n",
       "      <td>D</td>\n",
       "      <td>ASYM</td>\n",
       "      <td>51.0</td>\n",
       "      <td>mdb110</td>\n",
       "      <td>M</td>\n",
       "      <td>190.0</td>\n",
       "      <td>427.0</td>\n",
       "      <td>mdb110.pgm</td>\n",
       "      <td>tiffs/mdb110.tif</td>\n",
       "    </tr>\n",
       "    <tr>\n",
       "      <th>148</th>\n",
       "      <td>D</td>\n",
       "      <td>NORM</td>\n",
       "      <td>NaN</td>\n",
       "      <td>mdb146</td>\n",
       "      <td>nan</td>\n",
       "      <td>NaN</td>\n",
       "      <td>NaN</td>\n",
       "      <td>mdb146.pgm</td>\n",
       "      <td>tiffs/mdb146.tif</td>\n",
       "    </tr>\n",
       "    <tr>\n",
       "      <th>197</th>\n",
       "      <td>F</td>\n",
       "      <td>SPIC</td>\n",
       "      <td>26.0</td>\n",
       "      <td>mdb195</td>\n",
       "      <td>B</td>\n",
       "      <td>725.0</td>\n",
       "      <td>129.0</td>\n",
       "      <td>mdb195.pgm</td>\n",
       "      <td>tiffs/mdb195.tif</td>\n",
       "    </tr>\n",
       "    <tr>\n",
       "      <th>260</th>\n",
       "      <td>D</td>\n",
       "      <td>CALC</td>\n",
       "      <td>28.0</td>\n",
       "      <td>mdb253</td>\n",
       "      <td>M</td>\n",
       "      <td>733.0</td>\n",
       "      <td>564.0</td>\n",
       "      <td>mdb253.pgm</td>\n",
       "      <td>tiffs/mdb253.tif</td>\n",
       "    </tr>\n",
       "  </tbody>\n",
       "</table>\n",
       "</div>"
      ],
      "text/plain": [
       "    BG CLASS  RADIUS  REFNUM SEVERITY      X      Y        path  \\\n",
       "70   F  NORM     NaN  mdb070      nan    NaN    NaN  mdb070.pgm   \n",
       "110  D  ASYM    51.0  mdb110        M  190.0  427.0  mdb110.pgm   \n",
       "148  D  NORM     NaN  mdb146      nan    NaN    NaN  mdb146.pgm   \n",
       "197  F  SPIC    26.0  mdb195        B  725.0  129.0  mdb195.pgm   \n",
       "260  D  CALC    28.0  mdb253        M  733.0  564.0  mdb253.pgm   \n",
       "\n",
       "                 scan  \n",
       "70   tiffs/mdb070.tif  \n",
       "110  tiffs/mdb110.tif  \n",
       "148  tiffs/mdb146.tif  \n",
       "197  tiffs/mdb195.tif  \n",
       "260  tiffs/mdb253.tif  "
      ]
     },
     "execution_count": 4,
     "metadata": {},
     "output_type": "execute_result"
    }
   ],
   "source": [
    "base_h5 = os.path.join('.', 'mmsample','all_mias_scans.h5')\n",
    "tif_dir = 'tiffs'\n",
    "os.makedirs(tif_dir, exist_ok=True)\n",
    "with h5py.File(base_h5, 'r') as f:\n",
    "    mammo_df = pd.DataFrame(\n",
    "        {k: v.value if len(v.shape)==1 else [sub_v for sub_v in v] \n",
    "         for k,v in f.items()}\n",
    "    )\n",
    "for k in mammo_df.columns:\n",
    "    if isinstance(mammo_df[k].values[0], bytes):\n",
    "        mammo_df[k] = mammo_df[k].map(lambda x: x.decode())\n",
    "from skimage.io import imsave\n",
    "def to_path(c_row):\n",
    "    out_path = os.path.join(tif_dir, '%s.tif' % c_row['REFNUM'])\n",
    "    imsave(out_path, c_row['scan'])\n",
    "    return out_path\n",
    "mammo_df['scan'] = mammo_df.apply(to_path,1)\n",
    "mammo_df.sample(5)"
   ]
  },
  {
   "cell_type": "code",
   "execution_count": 5,
   "id": "2897e2ca",
   "metadata": {},
   "outputs": [
    {
     "name": "stdout",
     "output_type": "stream",
     "text": [
      "<class 'pandas.core.frame.DataFrame'>\n",
      "RangeIndex: 330 entries, 0 to 329\n",
      "Data columns (total 9 columns):\n",
      " #   Column    Non-Null Count  Dtype  \n",
      "---  ------    --------------  -----  \n",
      " 0   BG        330 non-null    object \n",
      " 1   CLASS     330 non-null    object \n",
      " 2   RADIUS    119 non-null    float64\n",
      " 3   REFNUM    330 non-null    object \n",
      " 4   SEVERITY  330 non-null    object \n",
      " 5   X         119 non-null    float64\n",
      " 6   Y         119 non-null    float64\n",
      " 7   path      330 non-null    object \n",
      " 8   scan      330 non-null    object \n",
      "dtypes: float64(3), object(6)\n",
      "memory usage: 23.3+ KB\n"
     ]
    }
   ],
   "source": [
    "mammo_df.info()"
   ]
  },
  {
   "cell_type": "code",
   "execution_count": 6,
   "id": "f547c081",
   "metadata": {},
   "outputs": [],
   "source": [
    "import tensorflow as tf\n",
    "from tensorflow import keras\n",
    "from tensorflow.keras import layers, models\n",
    "from tensorflow.keras.preprocessing.image import ImageDataGenerator\n",
    "from tensorflow.keras.layers import Dense, Dropout\n",
    "from tensorflow.keras.callbacks import Callback, EarlyStopping, ModelCheckpoint\n",
    "from tensorflow.keras.optimizers import Adam\n",
    "from tensorflow.keras.applications import MobileNetV2, MobileNet, VGG16\n",
    "from tensorflow.keras import Model\n",
    "from tensorflow.keras.layers.experimental import preprocessing"
   ]
  },
  {
   "cell_type": "code",
   "execution_count": 7,
   "id": "a7a59d63",
   "metadata": {},
   "outputs": [],
   "source": [
    "from sklearn.preprocessing import LabelEncoder\n",
    "class_enc = LabelEncoder()\n",
    "mammo_df['CLASS_ID'] = class_enc.fit_transform(mammo_df['CLASS'])"
   ]
  },
  {
   "cell_type": "code",
   "execution_count": 8,
   "id": "752ed93b",
   "metadata": {
    "scrolled": true
   },
   "outputs": [
    {
     "name": "stdout",
     "output_type": "stream",
     "text": [
      "train 247 validation 83\n"
     ]
    },
    {
     "data": {
      "text/html": [
       "<div>\n",
       "<style scoped>\n",
       "    .dataframe tbody tr th:only-of-type {\n",
       "        vertical-align: middle;\n",
       "    }\n",
       "\n",
       "    .dataframe tbody tr th {\n",
       "        vertical-align: top;\n",
       "    }\n",
       "\n",
       "    .dataframe thead th {\n",
       "        text-align: right;\n",
       "    }\n",
       "</style>\n",
       "<table border=\"1\" class=\"dataframe\">\n",
       "  <thead>\n",
       "    <tr style=\"text-align: right;\">\n",
       "      <th></th>\n",
       "      <th>BG</th>\n",
       "      <th>CLASS</th>\n",
       "      <th>RADIUS</th>\n",
       "      <th>REFNUM</th>\n",
       "      <th>SEVERITY</th>\n",
       "      <th>X</th>\n",
       "      <th>Y</th>\n",
       "      <th>path</th>\n",
       "      <th>scan</th>\n",
       "      <th>CLASS_ID</th>\n",
       "    </tr>\n",
       "  </thead>\n",
       "  <tbody>\n",
       "    <tr>\n",
       "      <th>86</th>\n",
       "      <td>G</td>\n",
       "      <td>NORM</td>\n",
       "      <td>NaN</td>\n",
       "      <td>mdb086</td>\n",
       "      <td>nan</td>\n",
       "      <td>NaN</td>\n",
       "      <td>NaN</td>\n",
       "      <td>mdb086.pgm</td>\n",
       "      <td>tiffs/mdb086.tif</td>\n",
       "      <td>5</td>\n",
       "    </tr>\n",
       "  </tbody>\n",
       "</table>\n",
       "</div>"
      ],
      "text/plain": [
       "   BG CLASS  RADIUS  REFNUM SEVERITY   X   Y        path              scan  \\\n",
       "86  G  NORM     NaN  mdb086      nan NaN NaN  mdb086.pgm  tiffs/mdb086.tif   \n",
       "\n",
       "    CLASS_ID  \n",
       "86         5  "
      ]
     },
     "execution_count": 8,
     "metadata": {},
     "output_type": "execute_result"
    }
   ],
   "source": [
    "from sklearn.model_selection import train_test_split\n",
    "raw_train_df, valid_df = train_test_split(mammo_df, \n",
    "                                   test_size = 0.25, \n",
    "                                   random_state = 2018,\n",
    "                                   stratify = mammo_df[['CLASS_ID', 'SEVERITY']])\n",
    "print('train', raw_train_df.shape[0], 'validation', valid_df.shape[0])\n",
    "raw_train_df.sample(1)"
   ]
  },
  {
   "cell_type": "code",
   "execution_count": 9,
   "id": "75f36e7a",
   "metadata": {},
   "outputs": [],
   "source": [
    "from tensorflow.keras.preprocessing.image import ImageDataGenerator\n",
    "from tensorflow.keras.applications.imagenet_utils import preprocess_input"
   ]
  },
  {
   "cell_type": "code",
   "execution_count": 10,
   "id": "ca7ab3ee",
   "metadata": {
    "scrolled": true
   },
   "outputs": [
    {
     "name": "stdout",
     "output_type": "stream",
     "text": [
      "Image dimensions: (1024, 1024)\n"
     ]
    },
    {
     "data": {
      "text/plain": [
       "(-0.5, 1023.5, 1023.5, -0.5)"
      ]
     },
     "execution_count": 10,
     "metadata": {},
     "output_type": "execute_result"
    },
    {
     "data": {
      "image/png": "[encoded data removed]",
      "text/plain": [
       "<Figure size 432x288 with 1 Axes>"
      ]
     },
     "metadata": {
      "needs_background": "light"
     },
     "output_type": "display_data"
    }
   ],
   "source": [
    "import matplotlib.pyplot as plt\n",
    "example = './mmsample/all-mias/mdb256.pgm'\n",
    "image = mpimg.imread(example)\n",
    "print('Image dimensions:', image.shape)\n",
    "plt.imshow(image)\n",
    "plt.axis(\"off\")\n"
   ]
  },
  {
   "cell_type": "code",
   "execution_count": 11,
   "id": "c6b69638",
   "metadata": {},
   "outputs": [],
   "source": [
    "def flow_from_dataframe(img_data_gen, in_df, path_col, y_col, **dflow_args):\n",
    "    df_gen = img_data_gen.flow_from_dataframe(in_df, x_col=path_col,\n",
    "                                              y_col=y_col,\n",
    "                                     class_mode = 'raw',\n",
    "                                    **dflow_args)\n",
    "    return df_gen"
   ]
  },
  {
   "cell_type": "code",
   "execution_count": 12,
   "id": "af2ef461",
   "metadata": {},
   "outputs": [
    {
     "name": "stdout",
     "output_type": "stream",
     "text": [
      "train 247 validation 83\n"
     ]
    },
    {
     "data": {
      "text/html": [
       "<div>\n",
       "<style scoped>\n",
       "    .dataframe tbody tr th:only-of-type {\n",
       "        vertical-align: middle;\n",
       "    }\n",
       "\n",
       "    .dataframe tbody tr th {\n",
       "        vertical-align: top;\n",
       "    }\n",
       "\n",
       "    .dataframe thead th {\n",
       "        text-align: right;\n",
       "    }\n",
       "</style>\n",
       "<table border=\"1\" class=\"dataframe\">\n",
       "  <thead>\n",
       "    <tr style=\"text-align: right;\">\n",
       "      <th></th>\n",
       "      <th>BG</th>\n",
       "      <th>CLASS</th>\n",
       "      <th>RADIUS</th>\n",
       "      <th>REFNUM</th>\n",
       "      <th>SEVERITY</th>\n",
       "      <th>X</th>\n",
       "      <th>Y</th>\n",
       "      <th>path</th>\n",
       "      <th>scan</th>\n",
       "      <th>CLASS_ID</th>\n",
       "    </tr>\n",
       "  </thead>\n",
       "  <tbody>\n",
       "    <tr>\n",
       "      <th>48</th>\n",
       "      <td>G</td>\n",
       "      <td>NORM</td>\n",
       "      <td>NaN</td>\n",
       "      <td>mdb048</td>\n",
       "      <td>nan</td>\n",
       "      <td>NaN</td>\n",
       "      <td>NaN</td>\n",
       "      <td>mdb048.pgm</td>\n",
       "      <td>tiffs/mdb048.tif</td>\n",
       "      <td>5</td>\n",
       "    </tr>\n",
       "  </tbody>\n",
       "</table>\n",
       "</div>"
      ],
      "text/plain": [
       "   BG CLASS  RADIUS  REFNUM SEVERITY   X   Y        path              scan  \\\n",
       "48  G  NORM     NaN  mdb048      nan NaN NaN  mdb048.pgm  tiffs/mdb048.tif   \n",
       "\n",
       "    CLASS_ID  \n",
       "48         5  "
      ]
     },
     "execution_count": 12,
     "metadata": {},
     "output_type": "execute_result"
    }
   ],
   "source": [
    "raw_train_df, valid_df = train_test_split(mammo_df, \n",
    "                                   test_size = 0.25, \n",
    "                                   random_state = 2018,\n",
    "                                   stratify = mammo_df[['CLASS_ID', 'SEVERITY']])\n",
    "print('train', raw_train_df.shape[0], 'validation', valid_df.shape[0])\n",
    "raw_train_df.sample(1)"
   ]
  },
  {
   "cell_type": "code",
   "execution_count": null,
   "id": "805d5ea9",
   "metadata": {},
   "outputs": [],
   "source": []
  },
  {
   "cell_type": "code",
   "execution_count": 13,
   "id": "75eaed29",
   "metadata": {
    "scrolled": true
   },
   "outputs": [
    {
     "name": "stdout",
     "output_type": "stream",
     "text": [
      "New Data Size: 1300 Old Size: 247\n"
     ]
    },
    {
     "data": {
      "text/plain": [
       "array([[<AxesSubplot:title={'center':'CLASS_ID'}>,\n",
       "        <AxesSubplot:title={'center':'RADIUS'}>]], dtype=object)"
      ]
     },
     "execution_count": 13,
     "metadata": {},
     "output_type": "execute_result"
    },
    {
     "data": {
      "image/png": "[encoded data removed]",
      "text/plain": [
       "<Figure size 720x360 with 2 Axes>"
      ]
     },
     "metadata": {
      "needs_background": "light"
     },
     "output_type": "display_data"
    }
   ],
   "source": [
    "train_df = raw_train_df.groupby(['CLASS_ID', 'SEVERITY']).apply(lambda x: x.sample(100, replace = True)\n",
    "                                                      ).reset_index(drop = True)\n",
    "print('New Data Size:', train_df.shape[0], 'Old Size:', raw_train_df.shape[0])\n",
    "train_df[['CLASS_ID', 'RADIUS']].hist(figsize = (10, 5))"
   ]
  },
  {
   "cell_type": "code",
   "execution_count": 14,
   "id": "e6da337a",
   "metadata": {},
   "outputs": [],
   "source": [
    "from tensorflow.keras.preprocessing.image import ImageDataGenerator\n",
    "from tensorflow.keras.applications.imagenet_utils import preprocess_input\n",
    "core_idg = ImageDataGenerator(samplewise_center=False, \n",
    "                              samplewise_std_normalization=False, \n",
    "                              horizontal_flip = True, \n",
    "                              vertical_flip = False, \n",
    "                              height_shift_range = 0.1, \n",
    "                              width_shift_range = 0.1, \n",
    "                              rotation_range = 5, \n",
    "                              shear_range = 0.001,\n",
    "                              fill_mode = 'nearest',\n",
    "                              zoom_range=0.3,\n",
    "                             preprocessing_function = preprocess_input)"
   ]
  },
  {
   "cell_type": "code",
   "execution_count": 16,
   "id": "c05559ad",
   "metadata": {},
   "outputs": [
    {
     "name": "stdout",
     "output_type": "stream",
     "text": [
      "Found 1300 validated image filenames.\n",
      "Found 83 validated image filenames.\n",
      "Found 83 validated image filenames.\n"
     ]
    }
   ],
   "source": [
    "train_gen = flow_from_dataframe(core_idg, train_df, \n",
    "                             path_col = 'scan',\n",
    "                            y_col = 'CLASS_ID', \n",
    "                            target_size = (224, 224),\n",
    "                             color_mode = 'rgb',\n",
    "                            batch_size = 96)\n",
    "\n",
    "valid_gen = flow_from_dataframe(core_idg, valid_df, \n",
    "                             path_col = 'scan',\n",
    "                            y_col = 'CLASS_ID', \n",
    "                            target_size = (224, 224),\n",
    "                             color_mode = 'rgb',\n",
    "                            batch_size = 96) \n",
    "test_X, test_Y = next(flow_from_dataframe(core_idg, \n",
    "                               valid_df, \n",
    "                             path_col = 'scan',\n",
    "                            y_col = 'CLASS_ID', \n",
    "                            target_size = (224,224),\n",
    "                             color_mode = 'rgb',\n",
    "                            batch_size = 96))"
   ]
  },
  {
   "cell_type": "code",
   "execution_count": 17,
   "id": "af3e18aa",
   "metadata": {},
   "outputs": [],
   "source": [
    "from tensorflow.keras.applications import VGG19"
   ]
  },
  {
   "cell_type": "code",
   "execution_count": 18,
   "id": "1263003a",
   "metadata": {},
   "outputs": [
    {
     "name": "stderr",
     "output_type": "stream",
     "text": [
      "2023-04-11 19:58:30.131488: I tensorflow/core/platform/cpu_feature_guard.cc:142] This TensorFlow binary is optimized with oneAPI Deep Neural Network Library (oneDNN) to use the following CPU instructions in performance-critical operations:  SSE4.1 SSE4.2 AVX AVX2 AVX512F FMA\n",
      "To enable them in other operations, rebuild TensorFlow with the appropriate compiler flags.\n"
     ]
    }
   ],
   "source": [
    "model1 = VGG19(include_top=False, weights='imagenet', input_shape=(224, 224, 3), pooling='max')"
   ]
  },
  {
   "cell_type": "code",
   "execution_count": 20,
   "id": "7d7ac5d1",
   "metadata": {},
   "outputs": [],
   "source": [
    "import tensorflow as tf"
   ]
  },
  {
   "cell_type": "code",
   "execution_count": 21,
   "id": "5ca4d6f6",
   "metadata": {},
   "outputs": [],
   "source": [
    "from tensorflow.keras.applications import VGG16"
   ]
  },
  {
   "cell_type": "code",
   "execution_count": 22,
   "id": "8c72f38f",
   "metadata": {},
   "outputs": [],
   "source": [
    "model2 = VGG16(include_top=False, weights='imagenet', input_shape=(224, 224, 3), pooling='max')"
   ]
  },
  {
   "cell_type": "code",
   "execution_count": 23,
   "id": "a1e3a000",
   "metadata": {},
   "outputs": [],
   "source": [
    "model2.trainable = False"
   ]
  },
  {
   "cell_type": "code",
   "execution_count": 24,
   "id": "b0e5fd15",
   "metadata": {},
   "outputs": [],
   "source": [
    "checkpont_mod2 = '/home/jovyan/Thesis/sample7/'\n",
    "checkpoint_callback2 = tf.keras.callbacks.ModelCheckpoint(checkpont_mod2,\n",
    "                                      save_weights_only=True,\n",
    "                                      monitor='val_loss',\n",
    "                                      save_best_only=True)"
   ]
  },
  {
   "cell_type": "code",
   "execution_count": 25,
   "id": "ba625fca",
   "metadata": {},
   "outputs": [],
   "source": [
    "early_stopping = EarlyStopping(monitor='val_loss', patience = 5, restore_best_weights=True)"
   ]
  },
  {
   "cell_type": "code",
   "execution_count": 27,
   "id": "3881b39c",
   "metadata": {},
   "outputs": [],
   "source": [
    "inputs = model2.input\n",
    "x = Dense(256, activation='relu')(model2.output)\n",
    "x = Dropout(0.05)(x)\n",
    "outputs = Dense(1, activation='softmax')(x)\n",
    "model2_2 = Model(inputs=inputs, outputs=outputs)"
   ]
  },
  {
   "cell_type": "code",
   "execution_count": 28,
   "id": "c2c59e46",
   "metadata": {},
   "outputs": [],
   "source": [
    "model2_2.compile(\n",
    "    optimizer='adam',\n",
    "    loss='categorical_crossentropy',\n",
    "    metrics=[tf.keras.metrics.Precision(), tf.keras.metrics.Recall()]\n",
    ")"
   ]
  },
  {
   "cell_type": "code",
   "execution_count": 30,
   "id": "eb81b9f4",
   "metadata": {},
   "outputs": [
    {
     "name": "stderr",
     "output_type": "stream",
     "text": [
      "2023-04-11 19:59:50.994036: I tensorflow/compiler/mlir/mlir_graph_optimization_pass.cc:116] None of the MLIR optimization passes are enabled (registered 2)\n",
      "2023-04-11 19:59:50.994401: I tensorflow/core/platform/profile_utils/cpu_utils.cc:112] CPU Frequency: 1999990000 Hz\n"
     ]
    },
    {
     "name": "stdout",
     "output_type": "stream",
     "text": [
      "Epoch 1/5\n",
      "14/14 [==============================] - 270s 19s/step - loss: 0.0000e+00 - precision: 0.8334 - recall: 1.0000 - val_loss: 0.0000e+00 - val_precision: 0.9398 - val_recall: 1.0000\n",
      "Epoch 2/5\n",
      "14/14 [==============================] - 269s 19s/step - loss: 0.0000e+00 - precision: 0.8413 - recall: 1.0000 - val_loss: 0.0000e+00 - val_precision: 0.9398 - val_recall: 1.0000\n",
      "Epoch 3/5\n",
      "14/14 [==============================] - 269s 19s/step - loss: 0.0000e+00 - precision: 0.8478 - recall: 1.0000 - val_loss: 0.0000e+00 - val_precision: 0.9398 - val_recall: 1.0000\n",
      "Epoch 4/5\n",
      "14/14 [==============================] - 270s 19s/step - loss: 0.0000e+00 - precision: 0.8378 - recall: 1.0000 - val_loss: 0.0000e+00 - val_precision: 0.9398 - val_recall: 1.0000\n",
      "Epoch 5/5\n",
      "14/14 [==============================] - 269s 19s/step - loss: 0.0000e+00 - precision: 0.8440 - recall: 1.0000 - val_loss: 0.0000e+00 - val_precision: 0.9398 - val_recall: 1.0000\n"
     ]
    }
   ],
   "source": [
    "history = model2_2.fit(train_gen, epochs=5, validation_data=valid_gen, callbacks=[checkpoint_callback2, early_stopping])"
   ]
  },
  {
   "cell_type": "code",
   "execution_count": 31,
   "id": "25478481",
   "metadata": {},
   "outputs": [
    {
     "name": "stdout",
     "output_type": "stream",
     "text": [
      "3/3 [==============================] - 16s 5s/step\n"
     ]
    }
   ],
   "source": [
    "pred_Y = model2_2.predict(test_X, batch_size = 32, verbose = True)\n",
    "pred_Y_cat = np.argmax(pred_Y,-1)\n",
    "test_Y_cat = test_Y"
   ]
  },
  {
   "cell_type": "code",
   "execution_count": 32,
   "id": "b99bb9e9",
   "metadata": {},
   "outputs": [
    {
     "name": "stdout",
     "output_type": "stream",
     "text": [
      "              precision    recall  f1-score   support\n",
      "\n",
      "        ARCH       0.06      1.00      0.11         5\n",
      "        ASYM       0.00      0.00      0.00         3\n",
      "        CALC       0.00      0.00      0.00         8\n",
      "        CIRC       0.00      0.00      0.00         6\n",
      "        MISC       0.00      0.00      0.00         4\n",
      "        NORM       0.00      0.00      0.00        52\n",
      "        SPIC       0.00      0.00      0.00         5\n",
      "\n",
      "    accuracy                           0.06        83\n",
      "   macro avg       0.01      0.14      0.02        83\n",
      "weighted avg       0.00      0.06      0.01        83\n",
      "\n"
     ]
    },
    {
     "name": "stderr",
     "output_type": "stream",
     "text": [
      "/opt/conda/lib/python3.9/site-packages/sklearn/metrics/_classification.py:1248: UndefinedMetricWarning: Precision and F-score are ill-defined and being set to 0.0 in labels with no predicted samples. Use `zero_division` parameter to control this behavior.\n",
      "  _warn_prf(average, modifier, msg_start, len(result))\n",
      "/opt/conda/lib/python3.9/site-packages/sklearn/metrics/_classification.py:1248: UndefinedMetricWarning: Precision and F-score are ill-defined and being set to 0.0 in labels with no predicted samples. Use `zero_division` parameter to control this behavior.\n",
      "  _warn_prf(average, modifier, msg_start, len(result))\n",
      "/opt/conda/lib/python3.9/site-packages/sklearn/metrics/_classification.py:1248: UndefinedMetricWarning: Precision and F-score are ill-defined and being set to 0.0 in labels with no predicted samples. Use `zero_division` parameter to control this behavior.\n",
      "  _warn_prf(average, modifier, msg_start, len(result))\n"
     ]
    },
    {
     "data": {
      "image/png": "[encoded data removed]",
      "text/plain": [
       "<Figure size 288x288 with 1 Axes>"
      ]
     },
     "metadata": {
      "needs_background": "light"
     },
     "output_type": "display_data"
    }
   ],
   "source": [
    "from sklearn.metrics import classification_report, confusion_matrix\n",
    "plt.matshow(confusion_matrix(test_Y_cat, pred_Y_cat))\n",
    "print(classification_report(test_Y_cat, pred_Y_cat, target_names = class_enc.classes_))"
   ]
  }
 ],
 "metadata": {
  "kernelspec": {
   "display_name": "Python 3 (ipykernel)",
   "language": "python",
   "name": "python3"
  },
  "language_info": {
   "codemirror_mode": {
    "name": "ipython",
    "version": 3
   },
   "file_extension": ".py",
   "mimetype": "text/x-python",
   "name": "python",
   "nbconvert_exporter": "python",
   "pygments_lexer": "ipython3",
   "version": "3.9.6"
  }
 },
 "nbformat": 4,
 "nbformat_minor": 5
}
